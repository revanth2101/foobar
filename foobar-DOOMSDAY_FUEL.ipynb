{
 "cells": [
  {
   "cell_type": "code",
   "execution_count": 379,
   "metadata": {},
   "outputs": [],
   "source": [
    "from fractions import gcd\n",
    "from fractions import Fraction\n",
    "res=1\n",
    "def solution(m):\n",
    "    a=[]\n",
    "    s=0\n",
    "    for i in range(len(m)):\n",
    "        l=[]\n",
    "        sum_r=sum(m[i])\n",
    "        for j in range(len(m[i])):\n",
    "            if(m[i][j]!=0):\n",
    "                l.append(m[i][j]/sum_r)\n",
    "            else:\n",
    "                l.append(m[i][j])\n",
    "        a.append(l)\n",
    "    for i in range(len(m)):\n",
    "        if all([v==0 for v in m[i]]):\n",
    "                s=i\n",
    "                break\n",
    "    return FIND_MATRICES(s,a)\n"
   ]
  },
  {
   "cell_type": "code",
   "execution_count": 380,
   "metadata": {},
   "outputs": [],
   "source": [
    "def FIND_MATRICES(s,a):\n",
    "    q=[]\n",
    "    result=[]\n",
    "    inv=[]\n",
    "    for i in range(s):\n",
    "        p=[]\n",
    "        for j in range(s):\n",
    "            if(i==j):\n",
    "                value=1-(a[i][j])\n",
    "                p.append(value)\n",
    "            else:\n",
    "                value=0-(a[i][j])\n",
    "                p.append(value)\n",
    "        q.append(p)\n",
    "    return FIND_INVERSE(s,q,a)\n",
    "    \n"
   ]
  },
  {
   "cell_type": "code",
   "execution_count": 381,
   "metadata": {},
   "outputs": [],
   "source": [
    "def FIND_INVERSE(s,q,a):\n",
    "    inv=[]\n",
    "    r=[]\n",
    "    s1=[]\n",
    "    inv=getMatrixInverse(q)\n",
    "    for i in range(s):\n",
    "        l=[]\n",
    "        for j in range(s,len(a)):\n",
    "            l.append(a[i][j])\n",
    "            \n",
    "        r.append(l)\n",
    "    result=MATRIX_MUL(inv,r)\n",
    "    for i in range(len(result)):\n",
    "        s=[]\n",
    "        for j in range(len(result[i])):\n",
    "            s.append(Fraction(result[i][j]).limit_denominator())\n",
    "        s1.append(s)\n",
    "    return LCM(s1)"
   ]
  },
  {
   "cell_type": "code",
   "execution_count": 382,
   "metadata": {},
   "outputs": [],
   "source": [
    "def LCM(s1):\n",
    "    den=[]\n",
    "    for j in s1[0]:\n",
    "        den.append(j.denominator)\n",
    "    lcm=den[0]\n",
    "    for i in range(1,len(den)):\n",
    "        lcm=lcm*den[i]//math.gcd(lcm,den[i])\n",
    "        \n",
    "    return answer(lcm,s1)\n",
    "    "
   ]
  },
  {
   "cell_type": "code",
   "execution_count": 383,
   "metadata": {},
   "outputs": [],
   "source": [
    "def answer(lcm,s1):\n",
    "    num=[]\n",
    "    for i in s1[0]:\n",
    "        if (i.denominator!=lcm) and (i.numerator !=0):\n",
    "            val=lcm//(i.denominator)\n",
    "            num.append(val*(i.numerator))\n",
    "        else:\n",
    "            num.append(i.numerator)\n",
    "    num.append(lcm)\n",
    "    return num"
   ]
  },
  {
   "cell_type": "code",
   "execution_count": 384,
   "metadata": {},
   "outputs": [],
   "source": [
    "def transposeMatrix(m):\n",
    "    return map(list,zip(*m))\n",
    "\n",
    "def getMatrixMinor(m,i,j):\n",
    "    return [row[:j] + row[j+1:] for row in (m[:i]+m[i+1:])]\n",
    "\n",
    "def getMatrixDeternminant(m):\n",
    "    #base case for 2x2 matrix\n",
    "    if len(m) == 2:\n",
    "        return m[0][0]*m[1][1]-m[0][1]*m[1][0]\n",
    "\n",
    "    determinant = 0\n",
    "    for c in range(len(m)):\n",
    "        determinant += ((-1)**c)*m[0][c]*getMatrixDeternminant(getMatrixMinor(m,0,c))\n",
    "    return determinant\n",
    "\n",
    "def getMatrixInverse(m):\n",
    "    determinant = getMatrixDeternminant(m)\n",
    "    #special case for 2x2 matrix:\n",
    "    if len(m) == 2:\n",
    "        return [[m[1][1]/determinant, -1*m[0][1]/determinant],\n",
    "                [-1*m[1][0]/determinant, m[0][0]/determinant]]\n",
    "\n",
    "    #find matrix of cofactors\n",
    "    cofactors = []\n",
    "    for r in range(len(m)):\n",
    "        cofactorRow = []\n",
    "        for c in range(len(m)):\n",
    "            minor = getMatrixMinor(m,r,c)\n",
    "            cofactorRow.append(((-1)**(r+c)) * getMatrixDeternminant(minor))\n",
    "        cofactors.append(cofactorRow)\n",
    "    cofactors = transposeMatrix(cofactors)\n",
    "    for r in range(len(cofactors)):\n",
    "        for c in range(len(cofactors)):\n",
    "            cofactors[r][c] = cofactors[r][c]/determinant\n",
    "    return cofactors"
   ]
  },
  {
   "cell_type": "code",
   "execution_count": 385,
   "metadata": {},
   "outputs": [],
   "source": [
    "def MATRIX_MUL(inv,r):\n",
    "    res=[]\n",
    "    res= [[sum(a * b for a, b in zip(A_row, B_col))  \n",
    "                        for B_col in zip(*r)] \n",
    "                                for A_row in inv]\n",
    "    return res"
   ]
  },
  {
   "cell_type": "code",
   "execution_count": null,
   "metadata": {},
   "outputs": [],
   "source": []
  },
  {
   "cell_type": "code",
   "execution_count": 386,
   "metadata": {},
   "outputs": [
    {
     "data": {
      "text/plain": [
       "[7, 6, 8, 21]"
      ]
     },
     "execution_count": 386,
     "metadata": {},
     "output_type": "execute_result"
    }
   ],
   "source": [
    "m=[[0, 2, 1, 0, 0], [0, 0, 0, 3, 4], [0, 0, 0, 0, 0], [0, 0, 0, 0,0], [0, 0, 0, 0, 0]]\n",
    "len(m)\n",
    "solution(m)"
   ]
  },
  {
   "cell_type": "code",
   "execution_count": null,
   "metadata": {},
   "outputs": [],
   "source": []
  },
  {
   "cell_type": "code",
   "execution_count": null,
   "metadata": {},
   "outputs": [],
   "source": []
  }
 ],
 "metadata": {
  "kernelspec": {
   "display_name": "Python 3",
   "language": "python",
   "name": "python3"
  },
  "language_info": {
   "codemirror_mode": {
    "name": "ipython",
    "version": 3
   },
   "file_extension": ".py",
   "mimetype": "text/x-python",
   "name": "python",
   "nbconvert_exporter": "python",
   "pygments_lexer": "ipython3",
   "version": "3.7.6"
  }
 },
 "nbformat": 4,
 "nbformat_minor": 4
}
